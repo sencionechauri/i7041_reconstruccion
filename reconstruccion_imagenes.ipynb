{
 "cells": [
  {
   "cell_type": "markdown",
   "metadata": {},
   "source": [
    "# <p style=\"text-align: center;\">Reconstrucción</p>\n",
    "## <p style=\"text-align: center;\">Ejemplo: Extrapolación de Imágenes</p>"
   ]
  },
  {
   "cell_type": "markdown",
   "metadata": {},
   "source": [
    "En este ejemplo utilizaremos un modelo para extrapolación de imágenes llamado **Boundless**. Este modelo toma una imagen, enmascara una porción de la misma (ya sea 1/2, 1/4 o 3/4) y completa (extrapola) la sección enmascarada. En esencia le estamos pidiendo al modelo que complete una parte de la imagen que hace falta.\n",
    "\n",
    "Comenzaremos por importar los módulos necesarios."
   ]
  },
  {
   "cell_type": "code",
   "execution_count": null,
   "metadata": {},
   "outputs": [],
   "source": [
    "import tensorflow as tf\n",
    "import tensorflow_hub as hub\n",
    "from io import BytesIO\n",
    "from PIL import Image as PilImage\n",
    "import numpy as np\n",
    "from matplotlib import pyplot as plt\n",
    "from six.moves.urllib.request import urlopen"
   ]
  },
  {
   "cell_type": "markdown",
   "metadata": {},
   "source": [
    "A continuación crearemos una función que nos permitirá cargar una imagen y darle el formato necesario para el modelo (257x257x3). La función recortará la imagen para que sea cuadrada."
   ]
  },
  {
   "cell_type": "code",
   "execution_count": null,
   "metadata": {},
   "outputs": [],
   "source": [
    "def cargar_imagen(archivo):\n",
    "    fd = None\n",
    "    if(archivo.startswith('http')):\n",
    "      fd = urlopen(archivo)\n",
    "    else:\n",
    "      fd = tf.io.gfile.GFile(archivo, 'rb')\n",
    "\n",
    "    imagen = PilImage.open(fd)\n",
    "    ancho, alto = imagen.size\n",
    "    # crop to make the image square\n",
    "    imagen = imagen.crop((0, 0, alto, alto))\n",
    "    imagen = imagen.resize((257,257),PilImage.LANCZOS)\n",
    "    imagen_sin_escalar = np.array(imagen)\n",
    "    imagen_np = np.expand_dims(\n",
    "        imagen_sin_escalar.astype(np.float32) / 255., axis=0)\n",
    "    return imagen_np\n"
   ]
  },
  {
   "cell_type": "markdown",
   "metadata": {},
   "source": [
    "Ahora crearemos una función auxiliar para mostrar lado a lado la imagen original, la imagen enmascarada y la imagen extrapolada, estas últimas dos siendo generadas por el modelo."
   ]
  },
  {
   "cell_type": "code",
   "execution_count": null,
   "metadata": {},
   "outputs": [],
   "source": [
    "def mostrar_comparacion(img_original, img_mascara, img_extrapolada):\n",
    "  plt.figure(figsize=(24,12))\n",
    "  plt.subplot(131)\n",
    "  plt.imshow((np.squeeze(img_original)))\n",
    "  plt.title(\"Original\", fontsize=24)\n",
    "  plt.axis('off')\n",
    "  plt.subplot(132)\n",
    "  plt.imshow((np.squeeze(img_mascara)))\n",
    "  plt.title(\"Enmascarada\", fontsize=24)\n",
    "  plt.axis('off')\n",
    "  plt.subplot(133)\n",
    "  plt.imshow((np.squeeze(img_extrapolada)))\n",
    "  plt.title(\"Generada\", fontsize=24)\n",
    "  plt.axis('off')\n",
    "  plt.show()\n"
   ]
  },
  {
   "cell_type": "markdown",
   "metadata": {},
   "source": [
    "Ahora es momento de cargar una imagen, a continuación hay unas imagenes de ejemplo, puedes usar alguna otra, sin embargo el modelo no suele tener buenos resultados con rostros."
   ]
  },
  {
   "cell_type": "code",
   "execution_count": null,
   "metadata": {},
   "outputs": [],
   "source": [
    "# Imagenes de muestra\n",
    "wikimedia = \"https://upload.wikimedia.org/wikipedia/commons/thumb/3/31/Nusfjord_road%2C_2010_09.jpg/800px-Nusfjord_road%2C_2010_09.jpg\"\n",
    "# wikimedia = \"https://upload.wikimedia.org/wikipedia/commons/thumb/4/47/Beech_forest_M%C3%A1tra_in_winter.jpg/640px-Beech_forest_M%C3%A1tra_in_winter.jpg\"\n",
    "# wikimedia = \"https://upload.wikimedia.org/wikipedia/commons/thumb/b/b2/Marmolada_Sunset.jpg/640px-Marmolada_Sunset.jpg\"\n",
    "# wikimedia = \"https://upload.wikimedia.org/wikipedia/commons/thumb/9/9d/Aegina_sunset.jpg/640px-Aegina_sunset.jpg\"\n",
    "# wikimedia = \"https://upload.wikimedia.org/wikipedia/commons/b/b2/2019-06-09_Gnalp_%E2%80%93_300_Jahre_Liechtenstein_105_%28KPFC%29.jpg\"\n",
    "# wikimedia = \"https://upload.wikimedia.org/wikipedia/commons/6/68/Bigsurflowers.jpg\"\n",
    "# wikimedia = \"https://upload.wikimedia.org/wikipedia/commons/0/0c/Flors_de_lotus.jpg\"\n",
    "# wikimedia = \"https://upload.wikimedia.org/wikipedia/commons/a/ae/Mist_Covering_a_Meadow_under_Forest_Encroachment.jpg\"\n",
    "\n",
    "imagen = cargar_imagen(wikimedia)"
   ]
  },
  {
   "cell_type": "markdown",
   "metadata": {},
   "source": [
    "Dentro de TensorFlow Hub hay 3 versiones del modelo Boundless: Half (mitad de la imagen), Quarter (un cuarto de la imagen), Three Quarters (tres cuartos de la imagen). En la siguiente celda puedes seleccionar el modelo que quieras poner a prueba."
   ]
  },
  {
   "cell_type": "code",
   "execution_count": null,
   "metadata": {},
   "outputs": [],
   "source": [
    "nombre_modelo = 'Boundless Quarter' # @param ['Boundless Half', 'Boundless Quarter', 'Boundless Three Quarters']\n",
    "diccionario_modelo = {\n",
    "    'mitad' : 'https://tfhub.dev/google/boundless/half/1',\n",
    "    'cuarto' : 'https://tfhub.dev/google/boundless/quarter/1', \n",
    "    'tres_cuartos' : 'https://tfhub.dev/google/boundless/three_quarter/1'\n",
    "}\n",
    "\n",
    "modelo = diccionario_modelo[nombre_modelo]\n"
   ]
  },
  {
   "cell_type": "markdown",
   "metadata": {},
   "source": [
    "Una vez seleccionado el modelo podemos cargarlo desde el TensorFlow hub"
   ]
  },
  {
   "cell_type": "code",
   "execution_count": null,
   "metadata": {},
   "outputs": [],
   "source": [
    "print(f\"Loading model {nombre_modelo} ({modelo})\")\n",
    "mdl = hub.load(modelo)"
   ]
  },
  {
   "cell_type": "markdown",
   "metadata": {},
   "source": [
    "El modelo tiene dos salidas:\n",
    "\n",
    "<ul>\n",
    "<li>La imagen de entrada con la máscara aplicada.</li>\n",
    "<li>La imagen enmascarada con la extrapolación aplicada.</li>\n",
    "</ul>\n",
    "\n",
    "Puedes comparar los resultados utilizando la función de visualización."
   ]
  },
  {
   "cell_type": "code",
   "execution_count": null,
   "metadata": {},
   "outputs": [],
   "source": [
    "resultado = mdl.signatures['default'](tf.constant(imagen))\n",
    "imagen_generada =  resultado['default']\n",
    "imagen_enmascarada = resultado['masked_image']\n",
    "\n",
    "mostrar_comparacion(imagen, imagen_enmascarada, imagen_generada)\n"
   ]
  }
 ],
 "metadata": {
  "language_info": {
   "name": "python"
  }
 },
 "nbformat": 4,
 "nbformat_minor": 2
}
